{
 "cells": [
  {
   "attachments": {},
   "cell_type": "markdown",
   "metadata": {},
   "source": [
    "\n",
    "# Predict car purchasing dollar amount using ANNs (Regression task)\n",
    "\n"
   ]
  },
  {
   "cell_type": "markdown",
   "metadata": {},
   "source": [
    "## PROJECT DESCRIPTION"
   ]
  },
  {
   "cell_type": "markdown",
   "metadata": {},
   "source": [
    "In this small project, we will develop a model to predict the **total dollar amount** (or car purchase amount) that customers are willing to pay for a car given the following attributes (our inputs):\n",
    "- Customer Name\n",
    "- Customer e-mail\n",
    "- Country\n",
    "- Gender\n",
    "- Age\n",
    "- Annual Salary \n",
    "- Credit Card Debt \n",
    "- Net Worth "
   ]
  },
  {
   "cell_type": "markdown",
   "metadata": {},
   "source": [
    "## GETTING STARTED"
   ]
  },
  {
   "cell_type": "code",
   "execution_count": 1,
   "metadata": {},
   "outputs": [],
   "source": [
    "# Import libraries\n",
    "import pandas as pd\n",
    "import numpy as np\n",
    "import matplotlib.pyplot as plt\n",
    "import seaborn as sns"
   ]
  },
  {
   "cell_type": "code",
   "execution_count": 2,
   "metadata": {},
   "outputs": [],
   "source": [
    "# Import our dataset\n",
    "car_df = pd.read_csv('Car_Purchasing_Data.csv', encoding='ISO-8859-1')"
   ]
  },
  {
   "cell_type": "code",
   "execution_count": 3,
   "metadata": {
    "scrolled": true
   },
   "outputs": [],
   "source": [
    "# car_df"
   ]
  },
  {
   "cell_type": "code",
   "execution_count": null,
   "metadata": {
    "scrolled": true
   },
   "outputs": [
    {
     "data": {
      "text/plain": [
       "<seaborn.axisgrid.PairGrid at 0x15967b210>"
      ]
     },
     "execution_count": 4,
     "metadata": {},
     "output_type": "execute_result"
    }
   ],
   "source": [
    "# Visualize our dataset\n",
    "sns.pairplot(car_df)"
   ]
  },
  {
   "cell_type": "markdown",
   "metadata": {},
   "source": [
    "## DATA CLEANING"
   ]
  },
  {
   "cell_type": "code",
   "execution_count": null,
   "metadata": {},
   "outputs": [],
   "source": [
    "# We will drop the columns that might not be very useful to train our model\n",
    "# Country might be valuable, but we will drop it for the sake of simplicity\n",
    "X = car_df.drop(['Customer Name', 'Customer e-mail', 'Country', 'Car Purchase Amount'], axis = 1)"
   ]
  },
  {
   "cell_type": "code",
   "execution_count": 6,
   "metadata": {},
   "outputs": [
    {
     "data": {
      "text/html": [
       "<div>\n",
       "<style scoped>\n",
       "    .dataframe tbody tr th:only-of-type {\n",
       "        vertical-align: middle;\n",
       "    }\n",
       "\n",
       "    .dataframe tbody tr th {\n",
       "        vertical-align: top;\n",
       "    }\n",
       "\n",
       "    .dataframe thead th {\n",
       "        text-align: right;\n",
       "    }\n",
       "</style>\n",
       "<table border=\"1\" class=\"dataframe\">\n",
       "  <thead>\n",
       "    <tr style=\"text-align: right;\">\n",
       "      <th></th>\n",
       "      <th>Gender</th>\n",
       "      <th>Age</th>\n",
       "      <th>Annual Salary</th>\n",
       "      <th>Credit Card Debt</th>\n",
       "      <th>Net Worth</th>\n",
       "    </tr>\n",
       "  </thead>\n",
       "  <tbody>\n",
       "    <tr>\n",
       "      <th>0</th>\n",
       "      <td>0</td>\n",
       "      <td>41.851720</td>\n",
       "      <td>62812.09301</td>\n",
       "      <td>11609.380910</td>\n",
       "      <td>238961.2505</td>\n",
       "    </tr>\n",
       "    <tr>\n",
       "      <th>1</th>\n",
       "      <td>0</td>\n",
       "      <td>40.870623</td>\n",
       "      <td>66646.89292</td>\n",
       "      <td>9572.957136</td>\n",
       "      <td>530973.9078</td>\n",
       "    </tr>\n",
       "    <tr>\n",
       "      <th>2</th>\n",
       "      <td>1</td>\n",
       "      <td>43.152897</td>\n",
       "      <td>53798.55112</td>\n",
       "      <td>11160.355060</td>\n",
       "      <td>638467.1773</td>\n",
       "    </tr>\n",
       "    <tr>\n",
       "      <th>3</th>\n",
       "      <td>1</td>\n",
       "      <td>58.271369</td>\n",
       "      <td>79370.03798</td>\n",
       "      <td>14426.164850</td>\n",
       "      <td>548599.0524</td>\n",
       "    </tr>\n",
       "    <tr>\n",
       "      <th>4</th>\n",
       "      <td>1</td>\n",
       "      <td>57.313749</td>\n",
       "      <td>59729.15130</td>\n",
       "      <td>5358.712177</td>\n",
       "      <td>560304.0671</td>\n",
       "    </tr>\n",
       "    <tr>\n",
       "      <th>...</th>\n",
       "      <td>...</td>\n",
       "      <td>...</td>\n",
       "      <td>...</td>\n",
       "      <td>...</td>\n",
       "      <td>...</td>\n",
       "    </tr>\n",
       "    <tr>\n",
       "      <th>495</th>\n",
       "      <td>0</td>\n",
       "      <td>41.462515</td>\n",
       "      <td>71942.40291</td>\n",
       "      <td>6995.902524</td>\n",
       "      <td>541670.1016</td>\n",
       "    </tr>\n",
       "    <tr>\n",
       "      <th>496</th>\n",
       "      <td>1</td>\n",
       "      <td>37.642000</td>\n",
       "      <td>56039.49793</td>\n",
       "      <td>12301.456790</td>\n",
       "      <td>360419.0988</td>\n",
       "    </tr>\n",
       "    <tr>\n",
       "      <th>497</th>\n",
       "      <td>1</td>\n",
       "      <td>53.943497</td>\n",
       "      <td>68888.77805</td>\n",
       "      <td>10611.606860</td>\n",
       "      <td>764531.3203</td>\n",
       "    </tr>\n",
       "    <tr>\n",
       "      <th>498</th>\n",
       "      <td>1</td>\n",
       "      <td>59.160509</td>\n",
       "      <td>49811.99062</td>\n",
       "      <td>14013.034510</td>\n",
       "      <td>337826.6382</td>\n",
       "    </tr>\n",
       "    <tr>\n",
       "      <th>499</th>\n",
       "      <td>1</td>\n",
       "      <td>46.731152</td>\n",
       "      <td>61370.67766</td>\n",
       "      <td>9391.341628</td>\n",
       "      <td>462946.4924</td>\n",
       "    </tr>\n",
       "  </tbody>\n",
       "</table>\n",
       "<p>500 rows × 5 columns</p>\n",
       "</div>"
      ],
      "text/plain": [
       "     Gender        Age  Annual Salary  Credit Card Debt    Net Worth\n",
       "0         0  41.851720    62812.09301      11609.380910  238961.2505\n",
       "1         0  40.870623    66646.89292       9572.957136  530973.9078\n",
       "2         1  43.152897    53798.55112      11160.355060  638467.1773\n",
       "3         1  58.271369    79370.03798      14426.164850  548599.0524\n",
       "4         1  57.313749    59729.15130       5358.712177  560304.0671\n",
       "..      ...        ...            ...               ...          ...\n",
       "495       0  41.462515    71942.40291       6995.902524  541670.1016\n",
       "496       1  37.642000    56039.49793      12301.456790  360419.0988\n",
       "497       1  53.943497    68888.77805      10611.606860  764531.3203\n",
       "498       1  59.160509    49811.99062      14013.034510  337826.6382\n",
       "499       1  46.731152    61370.67766       9391.341628  462946.4924\n",
       "\n",
       "[500 rows x 5 columns]"
      ]
     },
     "execution_count": 6,
     "metadata": {},
     "output_type": "execute_result"
    }
   ],
   "source": [
    "X"
   ]
  },
  {
   "cell_type": "code",
   "execution_count": 7,
   "metadata": {},
   "outputs": [],
   "source": [
    "y = car_df['Car Purchase Amount']"
   ]
  },
  {
   "cell_type": "code",
   "execution_count": 8,
   "metadata": {},
   "outputs": [],
   "source": [
    "# X.shape"
   ]
  },
  {
   "cell_type": "code",
   "execution_count": 9,
   "metadata": {},
   "outputs": [],
   "source": [
    "# y.shape"
   ]
  },
  {
   "cell_type": "code",
   "execution_count": 10,
   "metadata": {},
   "outputs": [],
   "source": [
    "# Normalize our data\n",
    "from sklearn.preprocessing import MinMaxScaler\n",
    "\n",
    "scaler = MinMaxScaler()\n",
    "# Normalize our input data\n",
    "X_scaled = scaler.fit_transform(X)"
   ]
  },
  {
   "cell_type": "code",
   "execution_count": 11,
   "metadata": {},
   "outputs": [
    {
     "data": {
      "text/plain": [
       "array([[0.        , 0.4370344 , 0.53515116, 0.57836085, 0.22342985],\n",
       "       [0.        , 0.41741247, 0.58308616, 0.476028  , 0.52140195],\n",
       "       [1.        , 0.46305795, 0.42248189, 0.55579674, 0.63108896],\n",
       "       ...,\n",
       "       [1.        , 0.67886994, 0.61110973, 0.52822145, 0.75972584],\n",
       "       [1.        , 0.78321017, 0.37264988, 0.69914746, 0.3243129 ],\n",
       "       [1.        , 0.53462305, 0.51713347, 0.46690159, 0.45198622]])"
      ]
     },
     "execution_count": 11,
     "metadata": {},
     "output_type": "execute_result"
    }
   ],
   "source": [
    "X_scaled"
   ]
  },
  {
   "cell_type": "code",
   "execution_count": 12,
   "metadata": {},
   "outputs": [],
   "source": [
    "# scaler.data_max_"
   ]
  },
  {
   "cell_type": "code",
   "execution_count": 13,
   "metadata": {},
   "outputs": [],
   "source": [
    "# scaler.data_min_"
   ]
  },
  {
   "cell_type": "code",
   "execution_count": 14,
   "metadata": {},
   "outputs": [],
   "source": [
    "# Reshape so that we can normalize our ourput data\n",
    "y = y.values.reshape(-1,1)"
   ]
  },
  {
   "cell_type": "code",
   "execution_count": 15,
   "metadata": {},
   "outputs": [
    {
     "data": {
      "text/plain": [
       "(500, 1)"
      ]
     },
     "execution_count": 15,
     "metadata": {},
     "output_type": "execute_result"
    }
   ],
   "source": [
    "y.shape"
   ]
  },
  {
   "cell_type": "code",
   "execution_count": 16,
   "metadata": {},
   "outputs": [],
   "source": [
    "y_scaled = scaler.fit_transform(y)\n"
   ]
  },
  {
   "cell_type": "code",
   "execution_count": 17,
   "metadata": {},
   "outputs": [
    {
     "data": {
      "text/plain": [
       "array([[0.37072477],\n",
       "       [0.50866938],\n",
       "       [0.47782689],\n",
       "       [0.82285018],\n",
       "       [0.66078116],\n",
       "       [0.67059152],\n",
       "       [0.28064374],\n",
       "       [0.54133778],\n",
       "       [0.54948752],\n",
       "       [0.4111198 ],\n",
       "       [0.70486638],\n",
       "       [0.46885649],\n",
       "       [0.27746526],\n",
       "       [0.56702642],\n",
       "       [0.57056385],\n",
       "       [0.61996151],\n",
       "       [0.46217916],\n",
       "       [0.49157341],\n",
       "       [0.50188722],\n",
       "       [0.64545808],\n",
       "       [0.59339372],\n",
       "       [0.48453965],\n",
       "       [0.53860366],\n",
       "       [0.53007738],\n",
       "       [0.50814651],\n",
       "       [0.49841668],\n",
       "       [0.3966416 ],\n",
       "       [0.56467566],\n",
       "       [0.6950749 ],\n",
       "       [0.49287831],\n",
       "       [0.12090943],\n",
       "       [0.50211776],\n",
       "       [0.80794216],\n",
       "       [0.62661214],\n",
       "       [0.43394857],\n",
       "       [0.60017103],\n",
       "       [0.42223485],\n",
       "       [0.01538345],\n",
       "       [0.37927499],\n",
       "       [0.64539707],\n",
       "       [0.51838974],\n",
       "       [0.45869677],\n",
       "       [0.26804521],\n",
       "       [0.2650104 ],\n",
       "       [0.84054134],\n",
       "       [0.84401542],\n",
       "       [0.35515157],\n",
       "       [0.406246  ],\n",
       "       [0.40680623],\n",
       "       [0.55963883],\n",
       "       [0.2561583 ],\n",
       "       [0.77096325],\n",
       "       [0.55305289],\n",
       "       [0.5264948 ],\n",
       "       [0.3236476 ],\n",
       "       [0.55070832],\n",
       "       [0.54057623],\n",
       "       [0.45669016],\n",
       "       [0.41053254],\n",
       "       [0.33433524],\n",
       "       [0.39926954],\n",
       "       [0.5420261 ],\n",
       "       [0.57366948],\n",
       "       [0.43793831],\n",
       "       [0.46897896],\n",
       "       [0.61908354],\n",
       "       [0.55076214],\n",
       "       [0.48846357],\n",
       "       [0.61560519],\n",
       "       [0.56891394],\n",
       "       [0.30761974],\n",
       "       [0.56863909],\n",
       "       [0.46343171],\n",
       "       [0.50787179],\n",
       "       [0.61959897],\n",
       "       [0.59095889],\n",
       "       [0.45573492],\n",
       "       [0.49908055],\n",
       "       [0.4155271 ],\n",
       "       [0.45382041],\n",
       "       [0.41407692],\n",
       "       [0.45713635],\n",
       "       [0.30133556],\n",
       "       [0.47019791],\n",
       "       [0.42256447],\n",
       "       [0.14863766],\n",
       "       [0.50939895],\n",
       "       [0.38056275],\n",
       "       [0.59067519],\n",
       "       [0.05486922],\n",
       "       [0.4219045 ],\n",
       "       [0.59466257],\n",
       "       [0.23904164],\n",
       "       [0.72775122],\n",
       "       [0.63486085],\n",
       "       [0.43668833],\n",
       "       [0.74075381],\n",
       "       [0.42962519],\n",
       "       [0.61231998],\n",
       "       [0.46743215],\n",
       "       [0.68227386],\n",
       "       [0.19270023],\n",
       "       [0.34705263],\n",
       "       [0.31747576],\n",
       "       [0.72480623],\n",
       "       [0.51744133],\n",
       "       [0.36343414],\n",
       "       [0.36116341],\n",
       "       [0.26178477],\n",
       "       [0.64750739],\n",
       "       [0.56538749],\n",
       "       [0.70197943],\n",
       "       [0.68037083],\n",
       "       [0.60481233],\n",
       "       [0.29916352],\n",
       "       [0.81860421],\n",
       "       [0.47053558],\n",
       "       [0.45706646],\n",
       "       [0.47313925],\n",
       "       [0.35945319],\n",
       "       [0.46779854],\n",
       "       [0.46357095],\n",
       "       [0.71008706],\n",
       "       [0.59721993],\n",
       "       [0.64444254],\n",
       "       [0.53723155],\n",
       "       [0.78016463],\n",
       "       [0.39792327],\n",
       "       [0.61500514],\n",
       "       [0.49297475],\n",
       "       [0.59931944],\n",
       "       [0.4118826 ],\n",
       "       [0.43333307],\n",
       "       [0.43771229],\n",
       "       [0.33988067],\n",
       "       [0.55806565],\n",
       "       [0.54497514],\n",
       "       [0.42831636],\n",
       "       [0.344062  ],\n",
       "       [0.33380674],\n",
       "       [0.75865395],\n",
       "       [0.28768775],\n",
       "       [0.49885366],\n",
       "       [0.3893741 ],\n",
       "       [0.62895125],\n",
       "       [0.52080458],\n",
       "       [0.41555485],\n",
       "       [0.54839351],\n",
       "       [0.72143981],\n",
       "       [0.42155708],\n",
       "       [0.26493265],\n",
       "       [0.54372318],\n",
       "       [0.46981253],\n",
       "       [0.31409216],\n",
       "       [0.46999496],\n",
       "       [0.32165106],\n",
       "       [0.24646921],\n",
       "       [0.41088501],\n",
       "       [0.42863953],\n",
       "       [0.40442699],\n",
       "       [0.67782275],\n",
       "       [0.52751195],\n",
       "       [0.49091635],\n",
       "       [0.65623527],\n",
       "       [0.47160596],\n",
       "       [0.44900269],\n",
       "       [0.16412978],\n",
       "       [0.37237754],\n",
       "       [0.38187033],\n",
       "       [0.41101838],\n",
       "       [0.45107076],\n",
       "       [0.26605566],\n",
       "       [0.48907732],\n",
       "       [0.68212351],\n",
       "       [0.45217002],\n",
       "       [0.56409653],\n",
       "       [0.45444407],\n",
       "       [0.78232624],\n",
       "       [0.28242388],\n",
       "       [0.3059129 ],\n",
       "       [0.41919878],\n",
       "       [0.42720002],\n",
       "       [0.33251345],\n",
       "       [0.69078257],\n",
       "       [0.63925743],\n",
       "       [0.38927052],\n",
       "       [0.42988917],\n",
       "       [0.47856826],\n",
       "       [0.73050372],\n",
       "       [0.52648517],\n",
       "       [0.67013948],\n",
       "       [0.47569515],\n",
       "       [0.40675569],\n",
       "       [0.50997782],\n",
       "       [0.665203  ],\n",
       "       [0.58387492],\n",
       "       [0.57353959],\n",
       "       [0.31967601],\n",
       "       [0.56647918],\n",
       "       [0.52378641],\n",
       "       [0.38150608],\n",
       "       [0.48259225],\n",
       "       [0.44592089],\n",
       "       [0.60117759],\n",
       "       [0.50035241],\n",
       "       [0.55660425],\n",
       "       [0.51838459],\n",
       "       [0.6457801 ],\n",
       "       [0.33068236],\n",
       "       [0.46773647],\n",
       "       [0.64966102],\n",
       "       [0.54907635],\n",
       "       [0.48459001],\n",
       "       [0.50109082],\n",
       "       [0.40485272],\n",
       "       [0.5465529 ],\n",
       "       [0.5048829 ],\n",
       "       [0.53018684],\n",
       "       [0.66991531],\n",
       "       [0.46018938],\n",
       "       [0.73406295],\n",
       "       [0.39864179],\n",
       "       [0.53369389],\n",
       "       [0.66841888],\n",
       "       [0.51422109],\n",
       "       [0.26233016],\n",
       "       [0.52661271],\n",
       "       [0.28171911],\n",
       "       [0.5965593 ],\n",
       "       [0.46494647],\n",
       "       [0.61485077],\n",
       "       [0.49905236],\n",
       "       [0.52189581],\n",
       "       [0.69345654],\n",
       "       [0.47873651],\n",
       "       [0.58735466],\n",
       "       [0.53534616],\n",
       "       [0.56901367],\n",
       "       [0.47883335],\n",
       "       [0.49908428],\n",
       "       [0.5257114 ],\n",
       "       [0.53305254],\n",
       "       [0.66900144],\n",
       "       [0.47568675],\n",
       "       [0.61005611],\n",
       "       [0.3540794 ],\n",
       "       [0.72905982],\n",
       "       [0.80505204],\n",
       "       [0.31289637],\n",
       "       [0.523032  ],\n",
       "       [0.67567861],\n",
       "       [0.2138602 ],\n",
       "       [0.56450168],\n",
       "       [0.39568902],\n",
       "       [0.4845291 ],\n",
       "       [0.28298776],\n",
       "       [0.55421359],\n",
       "       [0.34170423],\n",
       "       [0.45531219],\n",
       "       [0.56811431],\n",
       "       [0.5972613 ],\n",
       "       [0.31338011],\n",
       "       [0.48730944],\n",
       "       [0.55352142],\n",
       "       [0.63399262],\n",
       "       [0.41795296],\n",
       "       [0.39544824],\n",
       "       [0.40771621],\n",
       "       [0.45521229],\n",
       "       [0.81533714],\n",
       "       [0.04981603],\n",
       "       [0.43026944],\n",
       "       [0.61562087],\n",
       "       [0.6268025 ],\n",
       "       [0.60728039],\n",
       "       [0.41838955],\n",
       "       [0.54964825],\n",
       "       [0.71104101],\n",
       "       [0.37903726],\n",
       "       [0.45118709],\n",
       "       [0.60183344],\n",
       "       [0.62002621],\n",
       "       [0.33560612],\n",
       "       [0.28757249],\n",
       "       [0.6825565 ],\n",
       "       [0.58368485],\n",
       "       [0.45880771],\n",
       "       [0.52693631],\n",
       "       [0.54380447],\n",
       "       [0.8715253 ],\n",
       "       [0.65554063],\n",
       "       [0.63167261],\n",
       "       [0.4352791 ],\n",
       "       [0.50332973],\n",
       "       [0.5343264 ],\n",
       "       [0.27381426],\n",
       "       [0.41053523],\n",
       "       [0.47531745],\n",
       "       [0.2911385 ],\n",
       "       [0.76110147],\n",
       "       [0.76406707],\n",
       "       [0.46931782],\n",
       "       [0.49948317],\n",
       "       [0.81820046],\n",
       "       [0.18438195],\n",
       "       [0.43693203],\n",
       "       [0.66298048],\n",
       "       [0.56960734],\n",
       "       [0.47179899],\n",
       "       [0.39556023],\n",
       "       [0.60375334],\n",
       "       [0.37628608],\n",
       "       [0.43511174],\n",
       "       [0.37719946],\n",
       "       [0.47698891],\n",
       "       [1.        ],\n",
       "       [0.72573208],\n",
       "       [0.71491172],\n",
       "       [0.43107389],\n",
       "       [0.69917902],\n",
       "       [0.61949147],\n",
       "       [0.58685749],\n",
       "       [0.71302854],\n",
       "       [0.19197549],\n",
       "       [0.4526464 ],\n",
       "       [0.62671101],\n",
       "       [0.38794277],\n",
       "       [0.48597146],\n",
       "       [0.3119255 ],\n",
       "       [0.3172683 ],\n",
       "       [0.31103807],\n",
       "       [0.51220225],\n",
       "       [0.22891454],\n",
       "       [0.43505067],\n",
       "       [0.60902435],\n",
       "       [0.43537481],\n",
       "       [0.51912329],\n",
       "       [0.30740999],\n",
       "       [0.42849005],\n",
       "       [0.36167369],\n",
       "       [0.20447774],\n",
       "       [0.27793926],\n",
       "       [0.70558126],\n",
       "       [0.58012487],\n",
       "       [0.3754806 ],\n",
       "       [0.52673735],\n",
       "       [0.32804493],\n",
       "       [0.56449711],\n",
       "       [0.56829414],\n",
       "       [0.45672673],\n",
       "       [0.21439436],\n",
       "       [0.49893066],\n",
       "       [0.72380375],\n",
       "       [0.47597174],\n",
       "       [0.53430602],\n",
       "       [0.69953618],\n",
       "       [0.40905353],\n",
       "       [0.42634618],\n",
       "       [0.64234067],\n",
       "       [0.4237175 ],\n",
       "       [0.54907212],\n",
       "       [0.5222931 ],\n",
       "       [0.30935321],\n",
       "       [0.37643596],\n",
       "       [0.56429808],\n",
       "       [0.56275857],\n",
       "       [0.39694511],\n",
       "       [0.53113416],\n",
       "       [0.61816285],\n",
       "       [0.29231919],\n",
       "       [0.73184274],\n",
       "       [0.4362737 ],\n",
       "       [0.41613807],\n",
       "       [0.67273869],\n",
       "       [0.76168793],\n",
       "       [0.65775822],\n",
       "       [0.3854533 ],\n",
       "       [0.61236387],\n",
       "       [0.58164331],\n",
       "       [0.39802597],\n",
       "       [0.54529522],\n",
       "       [0.28930803],\n",
       "       [0.72629843],\n",
       "       [0.38204913],\n",
       "       [0.68033622],\n",
       "       [0.60453629],\n",
       "       [0.37815253],\n",
       "       [0.47470876],\n",
       "       [0.65035196],\n",
       "       [0.24788603],\n",
       "       [0.63371047],\n",
       "       [0.54888405],\n",
       "       [0.48791067],\n",
       "       [0.46027877],\n",
       "       [0.76253593],\n",
       "       [0.30644588],\n",
       "       [0.79707352],\n",
       "       [0.40664378],\n",
       "       [0.47773971],\n",
       "       [0.19154167],\n",
       "       [0.86759109],\n",
       "       [0.48228989],\n",
       "       [0.41040247],\n",
       "       [0.30168732],\n",
       "       [0.77280198],\n",
       "       [0.50863303],\n",
       "       [0.49805458],\n",
       "       [0.14824364],\n",
       "       [0.57734658],\n",
       "       [0.7427002 ],\n",
       "       [0.4615406 ],\n",
       "       [0.52679628],\n",
       "       [0.39967091],\n",
       "       [0.34882593],\n",
       "       [0.3051776 ],\n",
       "       [0.60642838],\n",
       "       [0.30614901],\n",
       "       [0.4287247 ],\n",
       "       [0.41091372],\n",
       "       [0.44492764],\n",
       "       [0.74688327],\n",
       "       [0.5558489 ],\n",
       "       [0.43795845],\n",
       "       [0.571387  ],\n",
       "       [0.31561446],\n",
       "       [0.54534475],\n",
       "       [0.37724541],\n",
       "       [0.47754279],\n",
       "       [0.55657526],\n",
       "       [0.51540401],\n",
       "       [0.32481193],\n",
       "       [0.32687852],\n",
       "       [0.37288737],\n",
       "       [0.28900791],\n",
       "       [0.6538108 ],\n",
       "       [0.46675557],\n",
       "       [0.58506904],\n",
       "       [0.36510463],\n",
       "       [0.49152498],\n",
       "       [0.42443705],\n",
       "       [0.45278122],\n",
       "       [0.21316327],\n",
       "       [0.4747199 ],\n",
       "       [0.42114943],\n",
       "       [0.27669569],\n",
       "       [0.60775236],\n",
       "       [0.81194719],\n",
       "       [0.47759537],\n",
       "       [0.56687473],\n",
       "       [0.25779114],\n",
       "       [0.54746234],\n",
       "       [0.71808681],\n",
       "       [0.51086565],\n",
       "       [0.        ],\n",
       "       [0.52129727],\n",
       "       [0.33756622],\n",
       "       [0.56035434],\n",
       "       [0.51865585],\n",
       "       [0.43805795],\n",
       "       [0.3726359 ],\n",
       "       [0.2895323 ],\n",
       "       [0.41187412],\n",
       "       [0.499023  ],\n",
       "       [0.59220313],\n",
       "       [0.61366712],\n",
       "       [0.73808769],\n",
       "       [0.27413582],\n",
       "       [0.26177748],\n",
       "       [0.54900684],\n",
       "       [0.26992761],\n",
       "       [0.85449963],\n",
       "       [0.55003734],\n",
       "       [0.39949626],\n",
       "       [0.50001154],\n",
       "       [0.36815842],\n",
       "       [0.6502447 ],\n",
       "       [0.55469987],\n",
       "       [0.37779655],\n",
       "       [0.38757338],\n",
       "       [0.62128001],\n",
       "       [0.62041473],\n",
       "       [0.17564949],\n",
       "       [0.50726309],\n",
       "       [0.65320953],\n",
       "       [0.6691568 ],\n",
       "       [0.54146119],\n",
       "       [0.45760058],\n",
       "       [0.33173992],\n",
       "       [0.46457217],\n",
       "       [0.7118085 ],\n",
       "       [0.4556686 ],\n",
       "       [0.61669253],\n",
       "       [0.71996731],\n",
       "       [0.54592485],\n",
       "       [0.77729956],\n",
       "       [0.56199216],\n",
       "       [0.31678049],\n",
       "       [0.77672238],\n",
       "       [0.51326977],\n",
       "       [0.50855247]])"
      ]
     },
     "execution_count": 17,
     "metadata": {},
     "output_type": "execute_result"
    }
   ],
   "source": [
    "y_scaled"
   ]
  },
  {
   "cell_type": "markdown",
   "metadata": {},
   "source": [
    "## TRAINING THE MODEL"
   ]
  },
  {
   "cell_type": "markdown",
   "metadata": {},
   "source": [
    "### CREATE TESTING AND TRAINING DATASET"
   ]
  },
  {
   "cell_type": "code",
   "execution_count": 18,
   "metadata": {},
   "outputs": [],
   "source": [
    "from sklearn.model_selection import train_test_split\n",
    "X_train, X_test, y_train, y_test = train_test_split(X_scaled, y_scaled, test_size = 0.25)"
   ]
  },
  {
   "cell_type": "code",
   "execution_count": 19,
   "metadata": {},
   "outputs": [
    {
     "name": "stdout",
     "output_type": "stream",
     "text": [
      "Model: \"sequential\"\n",
      "_________________________________________________________________\n",
      " Layer (type)                Output Shape              Param #   \n",
      "=================================================================\n",
      " dense (Dense)               (None, 25)                150       \n",
      "                                                                 \n",
      " dense_1 (Dense)             (None, 25)                650       \n",
      "                                                                 \n",
      " dense_2 (Dense)             (None, 1)                 26        \n",
      "                                                                 \n",
      "=================================================================\n",
      "Total params: 826\n",
      "Trainable params: 826\n",
      "Non-trainable params: 0\n",
      "_________________________________________________________________\n"
     ]
    }
   ],
   "source": [
    "import tensorflow.keras\n",
    "from keras.models import Sequential\n",
    "from keras.layers import Dense\n",
    "from sklearn.preprocessing import MinMaxScaler\n",
    "\n",
    "# Build our artificial neural network in a sequential form (from input -> hidden layers -> output)\n",
    "model = Sequential()\n",
    "# Hidden layers\n",
    "model.add(Dense(25, input_dim=5, activation='relu'))\n",
    "model.add(Dense(25, activation='relu'))\n",
    "# Output - our car purchase amount\n",
    "# We will use a linear acrivation function because now we need to predict a certain value\n",
    "model.add(Dense(1, activation='linear'))\n",
    "model.summary()"
   ]
  },
  {
   "cell_type": "code",
   "execution_count": 20,
   "metadata": {},
   "outputs": [],
   "source": [
    "model.compile(optimizer='adam', loss='mean_squared_error')"
   ]
  },
  {
   "cell_type": "markdown",
   "metadata": {},
   "source": [
    "### TRAINING"
   ]
  },
  {
   "cell_type": "code",
   "execution_count": 21,
   "metadata": {},
   "outputs": [
    {
     "name": "stdout",
     "output_type": "stream",
     "text": [
      "Epoch 1/20\n",
      "12/12 [==============================] - 0s 5ms/step - loss: 0.1750 - val_loss: 0.0950\n",
      "Epoch 2/20\n",
      "12/12 [==============================] - 0s 1ms/step - loss: 0.0539 - val_loss: 0.0252\n",
      "Epoch 3/20\n",
      "12/12 [==============================] - 0s 1ms/step - loss: 0.0214 - val_loss: 0.0153\n",
      "Epoch 4/20\n"
     ]
    },
    {
     "name": "stderr",
     "output_type": "stream",
     "text": [
      "2023-07-09 19:45:23.024055: W tensorflow/tsl/platform/profile_utils/cpu_utils.cc:128] Failed to get CPU frequency: 0 Hz\n"
     ]
    },
    {
     "name": "stdout",
     "output_type": "stream",
     "text": [
      "12/12 [==============================] - 0s 1ms/step - loss: 0.0153 - val_loss: 0.0104\n",
      "Epoch 5/20\n",
      "12/12 [==============================] - 0s 1ms/step - loss: 0.0101 - val_loss: 0.0095\n",
      "Epoch 6/20\n",
      "12/12 [==============================] - 0s 1ms/step - loss: 0.0086 - val_loss: 0.0088\n",
      "Epoch 7/20\n",
      "12/12 [==============================] - 0s 2ms/step - loss: 0.0077 - val_loss: 0.0077\n",
      "Epoch 8/20\n",
      "12/12 [==============================] - 0s 1ms/step - loss: 0.0070 - val_loss: 0.0070\n",
      "Epoch 9/20\n",
      "12/12 [==============================] - 0s 1ms/step - loss: 0.0064 - val_loss: 0.0065\n",
      "Epoch 10/20\n",
      "12/12 [==============================] - 0s 1ms/step - loss: 0.0059 - val_loss: 0.0060\n",
      "Epoch 11/20\n",
      "12/12 [==============================] - 0s 1ms/step - loss: 0.0055 - val_loss: 0.0057\n",
      "Epoch 12/20\n",
      "12/12 [==============================] - 0s 1ms/step - loss: 0.0051 - val_loss: 0.0053\n",
      "Epoch 13/20\n",
      "12/12 [==============================] - 0s 1ms/step - loss: 0.0049 - val_loss: 0.0050\n",
      "Epoch 14/20\n",
      "12/12 [==============================] - 0s 1ms/step - loss: 0.0046 - val_loss: 0.0047\n",
      "Epoch 15/20\n",
      "12/12 [==============================] - 0s 1ms/step - loss: 0.0042 - val_loss: 0.0044\n",
      "Epoch 16/20\n",
      "12/12 [==============================] - 0s 1ms/step - loss: 0.0039 - val_loss: 0.0041\n",
      "Epoch 17/20\n",
      "12/12 [==============================] - 0s 1ms/step - loss: 0.0037 - val_loss: 0.0038\n",
      "Epoch 18/20\n",
      "12/12 [==============================] - 0s 1ms/step - loss: 0.0034 - val_loss: 0.0036\n",
      "Epoch 19/20\n",
      "12/12 [==============================] - 0s 1ms/step - loss: 0.0032 - val_loss: 0.0034\n",
      "Epoch 20/20\n",
      "12/12 [==============================] - 0s 1ms/step - loss: 0.0030 - val_loss: 0.0032\n"
     ]
    }
   ],
   "source": [
    "epochs_hist = model.fit(X_train, y_train, epochs=20, batch_size=25,  verbose=1, validation_split=0.2)"
   ]
  },
  {
   "cell_type": "markdown",
   "metadata": {},
   "source": [
    "## EVALUATE THE MODEL"
   ]
  },
  {
   "cell_type": "code",
   "execution_count": 22,
   "metadata": {},
   "outputs": [
    {
     "name": "stdout",
     "output_type": "stream",
     "text": [
      "dict_keys(['loss', 'val_loss'])\n"
     ]
    }
   ],
   "source": [
    "print(epochs_hist.history.keys())"
   ]
  },
  {
   "cell_type": "code",
   "execution_count": 23,
   "metadata": {},
   "outputs": [
    {
     "data": {
      "text/plain": [
       "<matplotlib.legend.Legend at 0x16cb7fc90>"
      ]
     },
     "execution_count": 23,
     "metadata": {},
     "output_type": "execute_result"
    },
    {
     "data": {
      "image/png": "[encoded data removed]",
      "text/plain": [
       "<Figure size 640x480 with 1 Axes>"
      ]
     },
     "metadata": {},
     "output_type": "display_data"
    }
   ],
   "source": [
    "## Visualize our results\n",
    "plt.plot(epochs_hist.history['loss'])\n",
    "plt.plot(epochs_hist.history['val_loss'])\n",
    "\n",
    "plt.title('Model Loss Progression During Training/Validation')\n",
    "plt.ylabel('Training and Validation Losses')\n",
    "plt.xlabel('Epoch Number')\n",
    "plt.legend(['Training Loss', 'Validation Loss'])\n"
   ]
  },
  {
   "cell_type": "markdown",
   "metadata": {},
   "source": [
    "## PREDICT THE OUTPUT FOR A NEW SET OF INPUTS"
   ]
  },
  {
   "cell_type": "code",
   "execution_count": 28,
   "metadata": {},
   "outputs": [],
   "source": [
    "# Gender, Age, Annual Salary, Credit Card Debt, Net Worth\n",
    "X_Testing = np.array([[1, 50, 50000, 10985, 629312]])"
   ]
  },
  {
   "cell_type": "code",
   "execution_count": 27,
   "metadata": {},
   "outputs": [
    {
     "name": "stdout",
     "output_type": "stream",
     "text": [
      "1/1 [==============================] - 0s 15ms/step\n"
     ]
    }
   ],
   "source": [
    "y_predict = model.predict(X_Testing)\n",
    "# y_predict.shape"
   ]
  },
  {
   "cell_type": "code",
   "execution_count": 26,
   "metadata": {
    "scrolled": true
   },
   "outputs": [
    {
     "name": "stdout",
     "output_type": "stream",
     "text": [
      "Expected Purchase Amount= [136804.03]\n"
     ]
    }
   ],
   "source": [
    "print('Expected Purchase Amount=', y_predict[:,0])"
   ]
  },
  {
   "cell_type": "markdown",
   "metadata": {},
   "source": [
    "🥳"
   ]
  }
 ],
 "metadata": {
  "kernelspec": {
   "display_name": "Python 3 (ipykernel)",
   "language": "python",
   "name": "python3"
  },
  "language_info": {
   "codemirror_mode": {
    "name": "ipython",
    "version": 3
   },
   "file_extension": ".py",
   "mimetype": "text/x-python",
   "name": "python",
   "nbconvert_exporter": "python",
   "pygments_lexer": "ipython3",
   "version": "3.11.4"
  },
  "widgets": {
   "state": {},
   "version": "1.1.2"
  }
 },
 "nbformat": 4,
 "nbformat_minor": 1
}
